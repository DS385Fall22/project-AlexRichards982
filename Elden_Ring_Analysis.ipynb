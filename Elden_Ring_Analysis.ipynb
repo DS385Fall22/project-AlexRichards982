{
 "cells": [
  {
   "cell_type": "code",
   "execution_count": 40,
   "id": "6cdd809d",
   "metadata": {},
   "outputs": [],
   "source": [
    "import pandas as pd\n",
    "import numpy as np\n",
    "import matplotlib.pyplot as plt"
   ]
  },
  {
   "cell_type": "code",
   "execution_count": 101,
   "id": "441bab55",
   "metadata": {},
   "outputs": [],
   "source": [
    "MotData = pd.read_csv(\"ER - Motion Values and Attack Data (App Ver. 1.08) - Motion Values.csv\")\n",
    "PseData = pd.read_csv(\"ER - Motion Values and Attack Data (App Ver. 1.08) - Poise Damage - PvP.csv\")"
   ]
  },
  {
   "cell_type": "markdown",
   "id": "3fbe8eb7",
   "metadata": {},
   "source": [
    "## Weapon Data\n",
    "\n",
    "Elden Ring has 377 distinct weapons, and each weapon has a number of different attacks it can do based on different button inputs combined with context. The dataset's rows correspond to the weapons, and its columns correspond to each specific kind of attack. The dataset consists of over a dozen separate spreadsheets which have values that correspond to each attack. We will examine \"Motion Values\" and \"Poise Damage - PvP\". The former determines what percentage change to a weapon's base damage a particular move should have, with slower moves that deal more damage and critical hits dealing massive amounts of damage. The latter refers to how good attacks are at staggering other players in \"Player versus Player\" combat, with player poise being measured on a scale of 0-133."
   ]
  },
  {
   "cell_type": "code",
   "execution_count": 42,
   "id": "34a65793",
   "metadata": {},
   "outputs": [
    {
     "data": {
      "text/plain": [
       "377"
      ]
     },
     "execution_count": 42,
     "metadata": {},
     "output_type": "execute_result"
    }
   ],
   "source": [
    "sum(MotData[\"Weapon\"].notnull())"
   ]
  },
  {
   "cell_type": "code",
   "execution_count": 136,
   "id": "6f9076b7",
   "metadata": {},
   "outputs": [
    {
     "data": {
      "text/html": [
       "<div>\n",
       "<style scoped>\n",
       "    .dataframe tbody tr th:only-of-type {\n",
       "        vertical-align: middle;\n",
       "    }\n",
       "\n",
       "    .dataframe tbody tr th {\n",
       "        vertical-align: top;\n",
       "    }\n",
       "\n",
       "    .dataframe thead th {\n",
       "        text-align: right;\n",
       "    }\n",
       "</style>\n",
       "<table border=\"1\" class=\"dataframe\">\n",
       "  <thead>\n",
       "    <tr style=\"text-align: right;\">\n",
       "      <th></th>\n",
       "      <th>Weapon Class</th>\n",
       "      <th>Weapon</th>\n",
       "      <th>1h R1 1</th>\n",
       "      <th>1h R1 2</th>\n",
       "      <th>1h R1 3</th>\n",
       "      <th>1h R1 4</th>\n",
       "      <th>1h R1 5</th>\n",
       "      <th>1h R1 6</th>\n",
       "      <th>1h R2 1</th>\n",
       "      <th>1h R2 2</th>\n",
       "      <th>...</th>\n",
       "      <th>Mounted R1 3</th>\n",
       "      <th>Mounted R2</th>\n",
       "      <th>Mounted R2 Charging</th>\n",
       "      <th>Mounted Charged R2</th>\n",
       "      <th>Mounted L1 1</th>\n",
       "      <th>Mounted L1 2</th>\n",
       "      <th>Mounted L1 3</th>\n",
       "      <th>Mounted L2</th>\n",
       "      <th>Mounted L2 Charging</th>\n",
       "      <th>Mounted Charged L2</th>\n",
       "    </tr>\n",
       "  </thead>\n",
       "  <tbody>\n",
       "    <tr>\n",
       "      <th>0</th>\n",
       "      <td>NaN</td>\n",
       "      <td>NaN</td>\n",
       "      <td>NaN</td>\n",
       "      <td>NaN</td>\n",
       "      <td>NaN</td>\n",
       "      <td>NaN</td>\n",
       "      <td>NaN</td>\n",
       "      <td>NaN</td>\n",
       "      <td>NaN</td>\n",
       "      <td>NaN</td>\n",
       "      <td>...</td>\n",
       "      <td>NaN</td>\n",
       "      <td>NaN</td>\n",
       "      <td>NaN</td>\n",
       "      <td>NaN</td>\n",
       "      <td>NaN</td>\n",
       "      <td>NaN</td>\n",
       "      <td>NaN</td>\n",
       "      <td>NaN</td>\n",
       "      <td>NaN</td>\n",
       "      <td>NaN</td>\n",
       "    </tr>\n",
       "    <tr>\n",
       "      <th>1</th>\n",
       "      <td>Dagger</td>\n",
       "      <td>Dagger</td>\n",
       "      <td>100.0</td>\n",
       "      <td>101.0</td>\n",
       "      <td>102.0</td>\n",
       "      <td>103.0</td>\n",
       "      <td>104.0</td>\n",
       "      <td>110.0</td>\n",
       "      <td>120.0</td>\n",
       "      <td>120</td>\n",
       "      <td>...</td>\n",
       "      <td>110.0</td>\n",
       "      <td>135.0</td>\n",
       "      <td>90.0</td>\n",
       "      <td>170</td>\n",
       "      <td>110.0</td>\n",
       "      <td>110.0</td>\n",
       "      <td>110.0</td>\n",
       "      <td>135.0</td>\n",
       "      <td>90.0</td>\n",
       "      <td>170</td>\n",
       "    </tr>\n",
       "    <tr>\n",
       "      <th>2</th>\n",
       "      <td>Dagger</td>\n",
       "      <td>Parrying Dagger</td>\n",
       "      <td>100.0</td>\n",
       "      <td>101.0</td>\n",
       "      <td>102.0</td>\n",
       "      <td>103.0</td>\n",
       "      <td>104.0</td>\n",
       "      <td>110.0</td>\n",
       "      <td>120.0</td>\n",
       "      <td>120</td>\n",
       "      <td>...</td>\n",
       "      <td>110.0</td>\n",
       "      <td>135.0</td>\n",
       "      <td>90.0</td>\n",
       "      <td>170</td>\n",
       "      <td>110.0</td>\n",
       "      <td>110.0</td>\n",
       "      <td>110.0</td>\n",
       "      <td>135.0</td>\n",
       "      <td>90.0</td>\n",
       "      <td>170</td>\n",
       "    </tr>\n",
       "    <tr>\n",
       "      <th>3</th>\n",
       "      <td>Dagger</td>\n",
       "      <td>Miséricorde</td>\n",
       "      <td>100.0</td>\n",
       "      <td>101.0</td>\n",
       "      <td>102.0</td>\n",
       "      <td>103.0</td>\n",
       "      <td>104.0</td>\n",
       "      <td>110.0</td>\n",
       "      <td>120.0</td>\n",
       "      <td>120</td>\n",
       "      <td>...</td>\n",
       "      <td>110.0</td>\n",
       "      <td>135.0</td>\n",
       "      <td>90.0</td>\n",
       "      <td>170</td>\n",
       "      <td>110.0</td>\n",
       "      <td>110.0</td>\n",
       "      <td>110.0</td>\n",
       "      <td>135.0</td>\n",
       "      <td>90.0</td>\n",
       "      <td>170</td>\n",
       "    </tr>\n",
       "    <tr>\n",
       "      <th>4</th>\n",
       "      <td>Dagger</td>\n",
       "      <td>Great Knife</td>\n",
       "      <td>100.0</td>\n",
       "      <td>101.0</td>\n",
       "      <td>102.0</td>\n",
       "      <td>103.0</td>\n",
       "      <td>104.0</td>\n",
       "      <td>110.0</td>\n",
       "      <td>120.0</td>\n",
       "      <td>120</td>\n",
       "      <td>...</td>\n",
       "      <td>110.0</td>\n",
       "      <td>135.0</td>\n",
       "      <td>90.0</td>\n",
       "      <td>170</td>\n",
       "      <td>110.0</td>\n",
       "      <td>110.0</td>\n",
       "      <td>110.0</td>\n",
       "      <td>135.0</td>\n",
       "      <td>90.0</td>\n",
       "      <td>170</td>\n",
       "    </tr>\n",
       "    <tr>\n",
       "      <th>...</th>\n",
       "      <td>...</td>\n",
       "      <td>...</td>\n",
       "      <td>...</td>\n",
       "      <td>...</td>\n",
       "      <td>...</td>\n",
       "      <td>...</td>\n",
       "      <td>...</td>\n",
       "      <td>...</td>\n",
       "      <td>...</td>\n",
       "      <td>...</td>\n",
       "      <td>...</td>\n",
       "      <td>...</td>\n",
       "      <td>...</td>\n",
       "      <td>...</td>\n",
       "      <td>...</td>\n",
       "      <td>...</td>\n",
       "      <td>...</td>\n",
       "      <td>...</td>\n",
       "      <td>...</td>\n",
       "      <td>...</td>\n",
       "      <td>...</td>\n",
       "    </tr>\n",
       "    <tr>\n",
       "      <th>406</th>\n",
       "      <td>Greatshield</td>\n",
       "      <td>Ant's Skull Plate</td>\n",
       "      <td>100.0</td>\n",
       "      <td>102.0</td>\n",
       "      <td>105.0</td>\n",
       "      <td>NaN</td>\n",
       "      <td>NaN</td>\n",
       "      <td>NaN</td>\n",
       "      <td>125.0</td>\n",
       "      <td>125</td>\n",
       "      <td>...</td>\n",
       "      <td>110.0</td>\n",
       "      <td>125.0</td>\n",
       "      <td>100.0</td>\n",
       "      <td>165</td>\n",
       "      <td>110.0</td>\n",
       "      <td>110.0</td>\n",
       "      <td>110.0</td>\n",
       "      <td>125.0</td>\n",
       "      <td>100.0</td>\n",
       "      <td>165</td>\n",
       "    </tr>\n",
       "    <tr>\n",
       "      <th>407</th>\n",
       "      <td>Greatshield</td>\n",
       "      <td>Erdtree Greatshield</td>\n",
       "      <td>100.0</td>\n",
       "      <td>102.0</td>\n",
       "      <td>105.0</td>\n",
       "      <td>NaN</td>\n",
       "      <td>NaN</td>\n",
       "      <td>NaN</td>\n",
       "      <td>125.0</td>\n",
       "      <td>125</td>\n",
       "      <td>...</td>\n",
       "      <td>110.0</td>\n",
       "      <td>125.0</td>\n",
       "      <td>100.0</td>\n",
       "      <td>165</td>\n",
       "      <td>110.0</td>\n",
       "      <td>110.0</td>\n",
       "      <td>110.0</td>\n",
       "      <td>125.0</td>\n",
       "      <td>100.0</td>\n",
       "      <td>165</td>\n",
       "    </tr>\n",
       "    <tr>\n",
       "      <th>408</th>\n",
       "      <td>Greatshield</td>\n",
       "      <td>Jellyfish Shield</td>\n",
       "      <td>100.0</td>\n",
       "      <td>102.0</td>\n",
       "      <td>105.0</td>\n",
       "      <td>NaN</td>\n",
       "      <td>NaN</td>\n",
       "      <td>NaN</td>\n",
       "      <td>125.0</td>\n",
       "      <td>125</td>\n",
       "      <td>...</td>\n",
       "      <td>110.0</td>\n",
       "      <td>125.0</td>\n",
       "      <td>100.0</td>\n",
       "      <td>165</td>\n",
       "      <td>110.0</td>\n",
       "      <td>110.0</td>\n",
       "      <td>110.0</td>\n",
       "      <td>125.0</td>\n",
       "      <td>100.0</td>\n",
       "      <td>165</td>\n",
       "    </tr>\n",
       "    <tr>\n",
       "      <th>409</th>\n",
       "      <td>Greatshield</td>\n",
       "      <td>Visage Shield</td>\n",
       "      <td>100.0</td>\n",
       "      <td>102.0</td>\n",
       "      <td>105.0</td>\n",
       "      <td>NaN</td>\n",
       "      <td>NaN</td>\n",
       "      <td>NaN</td>\n",
       "      <td>125.0</td>\n",
       "      <td>125</td>\n",
       "      <td>...</td>\n",
       "      <td>110.0</td>\n",
       "      <td>125.0</td>\n",
       "      <td>100.0</td>\n",
       "      <td>165</td>\n",
       "      <td>110.0</td>\n",
       "      <td>110.0</td>\n",
       "      <td>110.0</td>\n",
       "      <td>125.0</td>\n",
       "      <td>100.0</td>\n",
       "      <td>165</td>\n",
       "    </tr>\n",
       "    <tr>\n",
       "      <th>410</th>\n",
       "      <td>Greatshield</td>\n",
       "      <td>One-Eyed Shield</td>\n",
       "      <td>100.0</td>\n",
       "      <td>102.0</td>\n",
       "      <td>105.0</td>\n",
       "      <td>NaN</td>\n",
       "      <td>NaN</td>\n",
       "      <td>NaN</td>\n",
       "      <td>125.0</td>\n",
       "      <td>125</td>\n",
       "      <td>...</td>\n",
       "      <td>110.0</td>\n",
       "      <td>125.0</td>\n",
       "      <td>100.0</td>\n",
       "      <td>165</td>\n",
       "      <td>110.0</td>\n",
       "      <td>110.0</td>\n",
       "      <td>110.0</td>\n",
       "      <td>125.0</td>\n",
       "      <td>100.0</td>\n",
       "      <td>165</td>\n",
       "    </tr>\n",
       "  </tbody>\n",
       "</table>\n",
       "<p>411 rows × 72 columns</p>\n",
       "</div>"
      ],
      "text/plain": [
       "    Weapon Class               Weapon  1h R1 1  1h R1 2  1h R1 3  1h R1 4  \\\n",
       "0            NaN                  NaN      NaN      NaN      NaN      NaN   \n",
       "1         Dagger               Dagger    100.0    101.0    102.0    103.0   \n",
       "2         Dagger      Parrying Dagger    100.0    101.0    102.0    103.0   \n",
       "3         Dagger          Miséricorde    100.0    101.0    102.0    103.0   \n",
       "4         Dagger          Great Knife    100.0    101.0    102.0    103.0   \n",
       "..           ...                  ...      ...      ...      ...      ...   \n",
       "406  Greatshield    Ant's Skull Plate    100.0    102.0    105.0      NaN   \n",
       "407  Greatshield  Erdtree Greatshield    100.0    102.0    105.0      NaN   \n",
       "408  Greatshield     Jellyfish Shield    100.0    102.0    105.0      NaN   \n",
       "409  Greatshield        Visage Shield    100.0    102.0    105.0      NaN   \n",
       "410  Greatshield      One-Eyed Shield    100.0    102.0    105.0      NaN   \n",
       "\n",
       "     1h R1 5  1h R1 6  1h R2 1 1h R2 2  ... Mounted R1 3 Mounted R2  \\\n",
       "0        NaN      NaN      NaN     NaN  ...          NaN        NaN   \n",
       "1      104.0    110.0    120.0     120  ...        110.0      135.0   \n",
       "2      104.0    110.0    120.0     120  ...        110.0      135.0   \n",
       "3      104.0    110.0    120.0     120  ...        110.0      135.0   \n",
       "4      104.0    110.0    120.0     120  ...        110.0      135.0   \n",
       "..       ...      ...      ...     ...  ...          ...        ...   \n",
       "406      NaN      NaN    125.0     125  ...        110.0      125.0   \n",
       "407      NaN      NaN    125.0     125  ...        110.0      125.0   \n",
       "408      NaN      NaN    125.0     125  ...        110.0      125.0   \n",
       "409      NaN      NaN    125.0     125  ...        110.0      125.0   \n",
       "410      NaN      NaN    125.0     125  ...        110.0      125.0   \n",
       "\n",
       "     Mounted R2 Charging  Mounted Charged R2  Mounted L1 1  Mounted L1 2  \\\n",
       "0                    NaN                 NaN           NaN           NaN   \n",
       "1                   90.0                 170         110.0         110.0   \n",
       "2                   90.0                 170         110.0         110.0   \n",
       "3                   90.0                 170         110.0         110.0   \n",
       "4                   90.0                 170         110.0         110.0   \n",
       "..                   ...                 ...           ...           ...   \n",
       "406                100.0                 165         110.0         110.0   \n",
       "407                100.0                 165         110.0         110.0   \n",
       "408                100.0                 165         110.0         110.0   \n",
       "409                100.0                 165         110.0         110.0   \n",
       "410                100.0                 165         110.0         110.0   \n",
       "\n",
       "    Mounted L1 3 Mounted L2  Mounted L2 Charging Mounted Charged L2  \n",
       "0            NaN        NaN                  NaN                NaN  \n",
       "1          110.0      135.0                 90.0                170  \n",
       "2          110.0      135.0                 90.0                170  \n",
       "3          110.0      135.0                 90.0                170  \n",
       "4          110.0      135.0                 90.0                170  \n",
       "..           ...        ...                  ...                ...  \n",
       "406        110.0      125.0                100.0                165  \n",
       "407        110.0      125.0                100.0                165  \n",
       "408        110.0      125.0                100.0                165  \n",
       "409        110.0      125.0                100.0                165  \n",
       "410        110.0      125.0                100.0                165  \n",
       "\n",
       "[411 rows x 72 columns]"
      ]
     },
     "execution_count": 136,
     "metadata": {},
     "output_type": "execute_result"
    }
   ],
   "source": [
    "MotData"
   ]
  },
  {
   "cell_type": "code",
   "execution_count": 43,
   "id": "2a64a318",
   "metadata": {},
   "outputs": [],
   "source": [
    "WeaponNames = MotData[\"Weapon\"].to_numpy()"
   ]
  },
  {
   "cell_type": "code",
   "execution_count": 10,
   "id": "61fcdf3f",
   "metadata": {},
   "outputs": [
    {
     "data": {
      "text/plain": [
       "122"
      ]
     },
     "execution_count": 10,
     "metadata": {},
     "output_type": "execute_result"
    }
   ],
   "source": [
    "np.where(WeaponNames == \"Godskin Peeler\")[0][0]"
   ]
  },
  {
   "cell_type": "code",
   "execution_count": 44,
   "id": "9f9df807",
   "metadata": {},
   "outputs": [
    {
     "data": {
      "text/plain": [
       "29592"
      ]
     },
     "execution_count": 44,
     "metadata": {},
     "output_type": "execute_result"
    }
   ],
   "source": [
    "MotData.size"
   ]
  },
  {
   "cell_type": "code",
   "execution_count": 45,
   "id": "4c986f16",
   "metadata": {},
   "outputs": [
    {
     "data": {
      "text/plain": [
       "(411, 72)"
      ]
     },
     "execution_count": 45,
     "metadata": {},
     "output_type": "execute_result"
    }
   ],
   "source": [
    "MotData.shape"
   ]
  },
  {
   "cell_type": "markdown",
   "id": "e0839225",
   "metadata": {},
   "source": [
    "### Parsing Data: multi attacks\n",
    "\n",
    "Some weapons in Elden Ring do multiple separate attacks with a single input"
   ]
  },
  {
   "cell_type": "code",
   "execution_count": 110,
   "id": "aaad006e",
   "metadata": {},
   "outputs": [],
   "source": [
    "def stringconv(input):\n",
    "    if(type(input) != str):\n",
    "        return float(input)\n",
    "    if(input.replace(\".\", \"\", 1).isdigit()):\n",
    "        return float(input)\n",
    "    sum = 0.0\n",
    "    tempstr = \"\"\n",
    "    for x in input:\n",
    "        if x.isdigit() or x == '.':\n",
    "            tempstr+=x\n",
    "            continue\n",
    "        if tempstr == \"\":\n",
    "            continue\n",
    "        sum += float(tempstr)\n",
    "        tempstr = \"\"\n",
    "    if tempstr == \"\":\n",
    "        return sum\n",
    "    sum += float(tempstr)\n",
    "    tempstr = \"\"\n",
    "    return sum"
   ]
  },
  {
   "cell_type": "code",
   "execution_count": 111,
   "id": "f99b47b7",
   "metadata": {},
   "outputs": [
    {
     "data": {
      "text/plain": [
       "103294.98"
      ]
     },
     "execution_count": 111,
     "metadata": {},
     "output_type": "execute_result"
    }
   ],
   "source": [
    "stringconv(\"103294.98\")"
   ]
  },
  {
   "cell_type": "code",
   "execution_count": 112,
   "id": "fbd90084",
   "metadata": {},
   "outputs": [
    {
     "data": {
      "text/plain": [
       "460.0"
      ]
     },
     "execution_count": 112,
     "metadata": {},
     "output_type": "execute_result"
    }
   ],
   "source": [
    "stringconv(\"115 + (57.5 Projectile) + 230 + (57.5 Projectile)\")"
   ]
  },
  {
   "cell_type": "code",
   "execution_count": 135,
   "id": "4b4c4642",
   "metadata": {},
   "outputs": [],
   "source": [
    "MotData[\"1h R2 1\"] = MotData[\"1h R2 1\"].apply(stringconv)\n",
    "PseData[\"1h R2 1\"] = PseData[\"1h R2 1\"].apply(stringconv)\n",
    "MotData[\"1h Running R1\"] = MotData[\"1h Running R1\"].apply(stringconv)\n",
    "PseData[\"1h Running R1\"] = PseData[\"1h Running R1\"].apply(stringconv)\n",
    "MotData[\"1h Running R2\"] = MotData[\"1h Running R2\"].apply(stringconv)\n",
    "PseData[\"1h Running R2\"] = PseData[\"1h Running R2\"].apply(stringconv)"
   ]
  },
  {
   "cell_type": "markdown",
   "id": "a03829d8",
   "metadata": {},
   "source": [
    "## Poise Breakpoints\n",
    "\n",
    "### Poise\n",
    "\n",
    "Poise is a value from 0 to 133 which determines how hard it is for enemy attacks to stagger your player character, breifly preventing you from taking more actions and giving a small window for unimpeded enemy attacks. Each attack deals a certain amount of \"poise damage\", and when your character has been dealt enough poise damage, they will stagger. If the player has not been dealt poise damage for 60 seconds or gets staggered, the stored amount of poise damage will reset to zero.\n",
    "\n",
    "Your character's armor, separated into headgear, chest, gauntlets, and leggings, will contribute 0-100 poise in total. The highest poise armor sets are the \"Bull-Goat Set\" giving 100 poise, the \"Fire Prelate Set\" at 96 poise, the \"Omen Set\" at 91 poise, \"Lionel's Set\" at 86 poise, and the \"Veteran's Set\" at 80 poise. In addition there is the \"Bull-Goat's Talisman\" which reduces incoming poise damage by 25%, which the game displays by saying you have 33% more poise, bringing the maximum to 133.\n",
    "\n",
    "There are temporary effects which increase poise, but as you will see we don't need to account for them in the following analysis. First, Weapon Skill \"Endure\" will give you infinite poise for 3.5 seconds. The Flask of Woundrous Physick can hold two crystal tears, and can only be used once per fight, so \"Leaden Hardtear\" gives infinite poise for 10 seconds. The consumable \"Ironjar Aromatic\" greatly slows the player's speed and makes attacks bounce off of them, at the cost of slowing the player to a crawl. Of little import is (Radiant) Baldachin's Blessing increases poise by 50% (81%) for 15 (70) seconds, these items being far too tedious to obtain repeatedly to see use.\n",
    "\n",
    "### Limitations of higher poise\n",
    "\n",
    "Why wouldn't all players simply have 133 poise? The answer is multifaceted. Higher poise armor will be heavier, which has a complex statistical interplay, players may choose armor for fashion rather than poise, and players have to find sets of armor out in the world. \n",
    "\n",
    "#### Equip Load\n",
    "Players have the statistic \"Equip Load\" which determines how much the sum total of held weapons, armor, and talismans will affect them. Being below 30%, 70%, and 100% or above 100% equip load constitute four tiers of mobility, with lighter tiers granting faster actions and especially faster dodge rolls, while the heaviest tier restricts player to a slow walk and disables dodge rolling. Equip Load scales with the player statistic \"Endurance\" which also governs stamina i.e. how many actions a player can do at once. Increasing Endurance comes at the cost of increasing statistics which make the player deal more damage, Vigor which governs player health, and Mind which governs mana i.e. how many spells and weapon arts a player can cast. Thus there is a tradition of \"tank\" builds wearing the heaviest armor and using slower but high damage weapons, while sorcerers tend to wear lighter armor and invest into other stats so their spells can deal absurd amounts of damage. Most players aim to have just below 70% equip load to be in the medium tier and have a decent amount of armor. \n",
    "\n",
    "#### Fashion\n",
    "Secondarily, fashion is another major factor in what armor players use. The Bull-Goat set and the Omen set are considered ugly by many, turning them off from using it. The Fire Prelate chestpiece and helmet also have a very specific look that not all players would want, but the leggings and gauntlets can blend nicely into most attires. Alternatively, players may just have a fondness for how particular pieces of armor look, or they may be \"cosplaying\" as a particular enemy in the game by using their armor or as a particular character from outside media.\n",
    "\n",
    "#### Non-poise benefits\n",
    "Poise is far from the only statistic of armor. Each piece of armor has varying resistances for different types of damage, and increases the player's resistances to certain status effects (bleed, scarlet rot, madness, etc.) in varying amounts. In addition, many helmets grant other benefits like boosting the aforementioned player statistics, and some sets of armor make thematically associated spells stronger (which mechanically encourages cosplaying as certain enemies).\n",
    "\n",
    "#### Obtaining armor\n",
    "The higher poise armors are the hardest to obtain, two of the five I listed require you to get into the late game area of the Capital, and a further two require you to complete that area. This leaves the Bull-Goat set as the one you have earliest access in theory, but it requires your character to join a murder cult and assassinate the NPC \"Great Horned Targoth\" who wears the armor. Furthermore, this quest can be locked out by either killing the Demigod leader of the cult, upon which it dissolves, or choosing to kill Patches when he appears as a boss early in the game, who asks you to spare him at half health. The Lionel's Set is in a very obvious location, so most players will obtain it, and the Fire Prelate Set is a random drop from a strong enemy that players must go past and can kill as many times as they like until they get the complete set.\n",
    "\n",
    "#### Talismans\n",
    "Players can use up to four talismans at once, and one of these can be the Bull-Goat's Talisman. The game has many talismans useful to all players, and many that benefit specific builds, so the choice of whether or not to use that specific talisman is significant, and among talismans it has a low equip load cost. Players may opt into using it if they are using lighter armor for the aforementioned reasons, or opt out of using it because they prefer other talismans. The item is relatively easy to obtain.\n",
    "\n",
    "\n",
    "### Breakpoints\n",
    "All of this exposition is to say, players want to know what values of poise they can achieve which would allow them to withstand a wide variety of attacks. The community refers to \"Poise Breakpoints\" as levels of poise which will protect players from being staggered by a certain class of attack. \n",
    "\n",
    "#### PvE breakpoints\n",
    "Enemies all deal either 50 or 120 poise damage with every attack. In addition there are hostile NPCs that will deal the same highly variable levels of poise damage damage we will discuss next. Thus for most \"Player versus Environment\" combat, it really only matters whether players at 51 poise or above, at 101 poise or above (to sustain two 50 poise attacks) or at 121-133 poise (only the three strongest sets of armor with Bull-Goat's Talisman grant this much poise). \n",
    "\n",
    "#### PvP breakpoints\n",
    "\n",
    "\n",
    "We want to guess what the best poise values a player can have in PvP to be able to withstand a high proportion of attacks without being staggered."
   ]
  },
  {
   "cell_type": "code",
   "execution_count": 130,
   "id": "0f78e28a",
   "metadata": {},
   "outputs": [],
   "source": [
    "PseArray = np.concatenate((np.array(PseData[\"1h R1 1\"].dropna()), np.array(PseData[\"1h R2 1\"].dropna())))"
   ]
  },
  {
   "cell_type": "code",
   "execution_count": 134,
   "id": "399988d4",
   "metadata": {},
   "outputs": [
    {
     "data": {
      "text/plain": [
       "40.5"
      ]
     },
     "execution_count": 134,
     "metadata": {},
     "output_type": "execute_result"
    }
   ],
   "source": [
    "np.percentile(PseArray, 2)"
   ]
  }
 ],
 "metadata": {
  "kernelspec": {
   "display_name": "Python 3 (ipykernel)",
   "language": "python",
   "name": "python3"
  },
  "language_info": {
   "codemirror_mode": {
    "name": "ipython",
    "version": 3
   },
   "file_extension": ".py",
   "mimetype": "text/x-python",
   "name": "python",
   "nbconvert_exporter": "python",
   "pygments_lexer": "ipython3",
   "version": "3.10.4"
  }
 },
 "nbformat": 4,
 "nbformat_minor": 5
}
