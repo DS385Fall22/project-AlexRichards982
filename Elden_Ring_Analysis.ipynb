{
 "cells": [
  {
   "cell_type": "code",
   "execution_count": 1,
   "id": "6cdd809d",
   "metadata": {},
   "outputs": [],
   "source": [
    "import pandas as pd\n",
    "import numpy as np\n",
    "import matplotlib.pyplot as plt"
   ]
  },
  {
   "cell_type": "markdown",
   "id": "f754480e",
   "metadata": {},
   "source": [
    "![Elden Ring Logo](images/Elden_Ring_Cover.png)\n",
    "\n",
    "# Elden Ring\n",
    "\n",
    "Elden Ring, released February 24th 2022 by From Software, is an action-RPG in From Soft's \"Souls\" series which dates back to 2009's Demon's Souls. Elden Ring is an open world game with a heavy focus on combat, abstract storytelling that players can piece together. \n",
    "\n",
    "The game has Player versus Environment (PvE) combat in the open world, small dungeons which end in a boss encounter, and lengthy Legacy Dungeons which host multiple bosses and harken back to the levels of the previous Souls games (which are not open world). This is blended with a rich Player versus Player (PvP) combat which has been another staple of the Souls series from its inception. Players may invite other players into their world, be they friends or strangers who offer help to anyone the game may connect them with, to fight through the game's PvE content with proportionately stronger enemies. The main cost of this though, is this opens them up to players invading their world to engage in PvP. Worlds will have up to four players: one host, up to two co-opers, and one invader (or two if the host uses an item that draws in repeated invasions). Alternatively, players can summon others into their world for 1v1 duels, and these matches were typically held in the round promenade before the entrance to a wizard school legacy dungeon. However, December 7th's version 1.08 changed everything by adding three PvP colosseums which provide swift matchups for duels, as well as 2v2 and 3v3 combat and 2, 4, or 6 player free for all battles.  \n",
    "\n",
    "Souls games host an abstract but rich story which players must infer from the details of the game like environmental storytelling, the uncommon piece of dialogue, item descriptions and so on. This has fostered a community that scrutinizes every aspect of these games, with YouTubers such as illusorywall and Limit Breakers delving deep into the game's mechanics (the former is where I found this spreadsheet), Zullie the Witch who data mines and uses cheat engine tools to garner additional story details and other interesting facts, and Sekiro Dubi who reconstructs cut content based on elements that are hidden in the game files. In addition the PvP community has a vested interest in knowing how weapons work mechanically, and the game's patch notes are about as vague as the story, so this community aspect persists through there."
   ]
  },
  {
   "cell_type": "code",
   "execution_count": 2,
   "id": "441bab55",
   "metadata": {},
   "outputs": [],
   "source": [
    "MotData = pd.read_csv(\"ER - Motion Values and Attack Data (App Ver. 1.08) - Motion Values.csv\")\n",
    "PseData = pd.read_csv(\"ER - Motion Values and Attack Data (App Ver. 1.08) - Poise Damage - PvP.csv\")"
   ]
  },
  {
   "cell_type": "markdown",
   "id": "1dcf13aa",
   "metadata": {},
   "source": [
    "## Weapon Data\n",
    "\n",
    "Elden Ring has 377 distinct weapons, and each weapon has a number of different attacks it can do based on different button inputs combined with context. The dataset's rows correspond to the weapons, and its columns correspond to each specific kind of attack. The dataset consists of over a dozen separate spreadsheets which have values that correspond to each attack. Each weapon also has a distinct \"moveset\" which informs why these values vary for different weapons, as for example a shield behaves fundamentally differently from a straight sword. We will examine \"Motion Values\" and \"Poise Damage - PvP\". The former determines what percentage change to a weapon's base damage a particular move should have; generally slower moves are more powerful, moves later into combo chains deal more damage, and critical hits deal massive amounts of damage. The latter refers to how good attacks are at staggering other players in \"Player versus Player\" combat, with player poise being measured on a scale of 0-133.\n",
    "\n",
    "These values are not necessarily listed in the game directly, rather they are the end result of some formula the game runs. In particular, patch 1.07 states \"Improved poise damage in PvP for every weapon’s normal attack, except for Skills and long-ranged weapons.\", so the poise damage players deal to each other is higher than what players deal to enemies controlled by the game. Dataminers have been compiling all of these numbers, and we have user Cryptid Tracker to thank for these data."
   ]
  },
  {
   "cell_type": "code",
   "execution_count": 3,
   "id": "34a65793",
   "metadata": {},
   "outputs": [
    {
     "data": {
      "text/plain": [
       "377"
      ]
     },
     "execution_count": 3,
     "metadata": {},
     "output_type": "execute_result"
    }
   ],
   "source": [
    "# How many distinct weapons are in the game?\n",
    "sum(MotData[\"Weapon\"].notnull())"
   ]
  },
  {
   "cell_type": "code",
   "execution_count": 4,
   "id": "8ff92f6d",
   "metadata": {
    "scrolled": true
   },
   "outputs": [
    {
     "data": {
      "text/html": [
       "<div>\n",
       "<style scoped>\n",
       "    .dataframe tbody tr th:only-of-type {\n",
       "        vertical-align: middle;\n",
       "    }\n",
       "\n",
       "    .dataframe tbody tr th {\n",
       "        vertical-align: top;\n",
       "    }\n",
       "\n",
       "    .dataframe thead th {\n",
       "        text-align: right;\n",
       "    }\n",
       "</style>\n",
       "<table border=\"1\" class=\"dataframe\">\n",
       "  <thead>\n",
       "    <tr style=\"text-align: right;\">\n",
       "      <th></th>\n",
       "      <th>Weapon Class</th>\n",
       "      <th>Weapon</th>\n",
       "      <th>1h R1 1</th>\n",
       "      <th>1h R1 2</th>\n",
       "      <th>1h R1 3</th>\n",
       "      <th>1h R1 4</th>\n",
       "      <th>1h R1 5</th>\n",
       "      <th>1h R1 6</th>\n",
       "      <th>1h R2 1</th>\n",
       "      <th>1h R2 2</th>\n",
       "      <th>...</th>\n",
       "      <th>Mounted R1 3</th>\n",
       "      <th>Mounted R2</th>\n",
       "      <th>Mounted R2 Charging</th>\n",
       "      <th>Mounted Charged R2</th>\n",
       "      <th>Mounted L1 1</th>\n",
       "      <th>Mounted L1 2</th>\n",
       "      <th>Mounted L1 3</th>\n",
       "      <th>Mounted L2</th>\n",
       "      <th>Mounted L2 Charging</th>\n",
       "      <th>Mounted Charged L2</th>\n",
       "    </tr>\n",
       "  </thead>\n",
       "  <tbody>\n",
       "    <tr>\n",
       "      <th>0</th>\n",
       "      <td>NaN</td>\n",
       "      <td>NaN</td>\n",
       "      <td>NaN</td>\n",
       "      <td>NaN</td>\n",
       "      <td>NaN</td>\n",
       "      <td>NaN</td>\n",
       "      <td>NaN</td>\n",
       "      <td>NaN</td>\n",
       "      <td>NaN</td>\n",
       "      <td>NaN</td>\n",
       "      <td>...</td>\n",
       "      <td>NaN</td>\n",
       "      <td>NaN</td>\n",
       "      <td>NaN</td>\n",
       "      <td>NaN</td>\n",
       "      <td>NaN</td>\n",
       "      <td>NaN</td>\n",
       "      <td>NaN</td>\n",
       "      <td>NaN</td>\n",
       "      <td>NaN</td>\n",
       "      <td>NaN</td>\n",
       "    </tr>\n",
       "    <tr>\n",
       "      <th>1</th>\n",
       "      <td>Dagger</td>\n",
       "      <td>Dagger</td>\n",
       "      <td>100.0</td>\n",
       "      <td>101.0</td>\n",
       "      <td>102.0</td>\n",
       "      <td>103.0</td>\n",
       "      <td>104.0</td>\n",
       "      <td>110.0</td>\n",
       "      <td>120</td>\n",
       "      <td>120</td>\n",
       "      <td>...</td>\n",
       "      <td>110.0</td>\n",
       "      <td>135.0</td>\n",
       "      <td>90.0</td>\n",
       "      <td>170</td>\n",
       "      <td>110.0</td>\n",
       "      <td>110.0</td>\n",
       "      <td>110.0</td>\n",
       "      <td>135.0</td>\n",
       "      <td>90.0</td>\n",
       "      <td>170</td>\n",
       "    </tr>\n",
       "    <tr>\n",
       "      <th>2</th>\n",
       "      <td>Dagger</td>\n",
       "      <td>Parrying Dagger</td>\n",
       "      <td>100.0</td>\n",
       "      <td>101.0</td>\n",
       "      <td>102.0</td>\n",
       "      <td>103.0</td>\n",
       "      <td>104.0</td>\n",
       "      <td>110.0</td>\n",
       "      <td>120</td>\n",
       "      <td>120</td>\n",
       "      <td>...</td>\n",
       "      <td>110.0</td>\n",
       "      <td>135.0</td>\n",
       "      <td>90.0</td>\n",
       "      <td>170</td>\n",
       "      <td>110.0</td>\n",
       "      <td>110.0</td>\n",
       "      <td>110.0</td>\n",
       "      <td>135.0</td>\n",
       "      <td>90.0</td>\n",
       "      <td>170</td>\n",
       "    </tr>\n",
       "    <tr>\n",
       "      <th>3</th>\n",
       "      <td>Dagger</td>\n",
       "      <td>Miséricorde</td>\n",
       "      <td>100.0</td>\n",
       "      <td>101.0</td>\n",
       "      <td>102.0</td>\n",
       "      <td>103.0</td>\n",
       "      <td>104.0</td>\n",
       "      <td>110.0</td>\n",
       "      <td>120</td>\n",
       "      <td>120</td>\n",
       "      <td>...</td>\n",
       "      <td>110.0</td>\n",
       "      <td>135.0</td>\n",
       "      <td>90.0</td>\n",
       "      <td>170</td>\n",
       "      <td>110.0</td>\n",
       "      <td>110.0</td>\n",
       "      <td>110.0</td>\n",
       "      <td>135.0</td>\n",
       "      <td>90.0</td>\n",
       "      <td>170</td>\n",
       "    </tr>\n",
       "    <tr>\n",
       "      <th>4</th>\n",
       "      <td>Dagger</td>\n",
       "      <td>Great Knife</td>\n",
       "      <td>100.0</td>\n",
       "      <td>101.0</td>\n",
       "      <td>102.0</td>\n",
       "      <td>103.0</td>\n",
       "      <td>104.0</td>\n",
       "      <td>110.0</td>\n",
       "      <td>120</td>\n",
       "      <td>120</td>\n",
       "      <td>...</td>\n",
       "      <td>110.0</td>\n",
       "      <td>135.0</td>\n",
       "      <td>90.0</td>\n",
       "      <td>170</td>\n",
       "      <td>110.0</td>\n",
       "      <td>110.0</td>\n",
       "      <td>110.0</td>\n",
       "      <td>135.0</td>\n",
       "      <td>90.0</td>\n",
       "      <td>170</td>\n",
       "    </tr>\n",
       "    <tr>\n",
       "      <th>...</th>\n",
       "      <td>...</td>\n",
       "      <td>...</td>\n",
       "      <td>...</td>\n",
       "      <td>...</td>\n",
       "      <td>...</td>\n",
       "      <td>...</td>\n",
       "      <td>...</td>\n",
       "      <td>...</td>\n",
       "      <td>...</td>\n",
       "      <td>...</td>\n",
       "      <td>...</td>\n",
       "      <td>...</td>\n",
       "      <td>...</td>\n",
       "      <td>...</td>\n",
       "      <td>...</td>\n",
       "      <td>...</td>\n",
       "      <td>...</td>\n",
       "      <td>...</td>\n",
       "      <td>...</td>\n",
       "      <td>...</td>\n",
       "      <td>...</td>\n",
       "    </tr>\n",
       "    <tr>\n",
       "      <th>406</th>\n",
       "      <td>Greatshield</td>\n",
       "      <td>Ant's Skull Plate</td>\n",
       "      <td>100.0</td>\n",
       "      <td>102.0</td>\n",
       "      <td>105.0</td>\n",
       "      <td>NaN</td>\n",
       "      <td>NaN</td>\n",
       "      <td>NaN</td>\n",
       "      <td>125</td>\n",
       "      <td>125</td>\n",
       "      <td>...</td>\n",
       "      <td>110.0</td>\n",
       "      <td>125.0</td>\n",
       "      <td>100.0</td>\n",
       "      <td>165</td>\n",
       "      <td>110.0</td>\n",
       "      <td>110.0</td>\n",
       "      <td>110.0</td>\n",
       "      <td>125.0</td>\n",
       "      <td>100.0</td>\n",
       "      <td>165</td>\n",
       "    </tr>\n",
       "    <tr>\n",
       "      <th>407</th>\n",
       "      <td>Greatshield</td>\n",
       "      <td>Erdtree Greatshield</td>\n",
       "      <td>100.0</td>\n",
       "      <td>102.0</td>\n",
       "      <td>105.0</td>\n",
       "      <td>NaN</td>\n",
       "      <td>NaN</td>\n",
       "      <td>NaN</td>\n",
       "      <td>125</td>\n",
       "      <td>125</td>\n",
       "      <td>...</td>\n",
       "      <td>110.0</td>\n",
       "      <td>125.0</td>\n",
       "      <td>100.0</td>\n",
       "      <td>165</td>\n",
       "      <td>110.0</td>\n",
       "      <td>110.0</td>\n",
       "      <td>110.0</td>\n",
       "      <td>125.0</td>\n",
       "      <td>100.0</td>\n",
       "      <td>165</td>\n",
       "    </tr>\n",
       "    <tr>\n",
       "      <th>408</th>\n",
       "      <td>Greatshield</td>\n",
       "      <td>Jellyfish Shield</td>\n",
       "      <td>100.0</td>\n",
       "      <td>102.0</td>\n",
       "      <td>105.0</td>\n",
       "      <td>NaN</td>\n",
       "      <td>NaN</td>\n",
       "      <td>NaN</td>\n",
       "      <td>125</td>\n",
       "      <td>125</td>\n",
       "      <td>...</td>\n",
       "      <td>110.0</td>\n",
       "      <td>125.0</td>\n",
       "      <td>100.0</td>\n",
       "      <td>165</td>\n",
       "      <td>110.0</td>\n",
       "      <td>110.0</td>\n",
       "      <td>110.0</td>\n",
       "      <td>125.0</td>\n",
       "      <td>100.0</td>\n",
       "      <td>165</td>\n",
       "    </tr>\n",
       "    <tr>\n",
       "      <th>409</th>\n",
       "      <td>Greatshield</td>\n",
       "      <td>Visage Shield</td>\n",
       "      <td>100.0</td>\n",
       "      <td>102.0</td>\n",
       "      <td>105.0</td>\n",
       "      <td>NaN</td>\n",
       "      <td>NaN</td>\n",
       "      <td>NaN</td>\n",
       "      <td>125</td>\n",
       "      <td>125</td>\n",
       "      <td>...</td>\n",
       "      <td>110.0</td>\n",
       "      <td>125.0</td>\n",
       "      <td>100.0</td>\n",
       "      <td>165</td>\n",
       "      <td>110.0</td>\n",
       "      <td>110.0</td>\n",
       "      <td>110.0</td>\n",
       "      <td>125.0</td>\n",
       "      <td>100.0</td>\n",
       "      <td>165</td>\n",
       "    </tr>\n",
       "    <tr>\n",
       "      <th>410</th>\n",
       "      <td>Greatshield</td>\n",
       "      <td>One-Eyed Shield</td>\n",
       "      <td>100.0</td>\n",
       "      <td>102.0</td>\n",
       "      <td>105.0</td>\n",
       "      <td>NaN</td>\n",
       "      <td>NaN</td>\n",
       "      <td>NaN</td>\n",
       "      <td>125</td>\n",
       "      <td>125</td>\n",
       "      <td>...</td>\n",
       "      <td>110.0</td>\n",
       "      <td>125.0</td>\n",
       "      <td>100.0</td>\n",
       "      <td>165</td>\n",
       "      <td>110.0</td>\n",
       "      <td>110.0</td>\n",
       "      <td>110.0</td>\n",
       "      <td>125.0</td>\n",
       "      <td>100.0</td>\n",
       "      <td>165</td>\n",
       "    </tr>\n",
       "  </tbody>\n",
       "</table>\n",
       "<p>411 rows × 72 columns</p>\n",
       "</div>"
      ],
      "text/plain": [
       "    Weapon Class               Weapon  1h R1 1  1h R1 2  1h R1 3  1h R1 4  \\\n",
       "0            NaN                  NaN      NaN      NaN      NaN      NaN   \n",
       "1         Dagger               Dagger    100.0    101.0    102.0    103.0   \n",
       "2         Dagger      Parrying Dagger    100.0    101.0    102.0    103.0   \n",
       "3         Dagger          Miséricorde    100.0    101.0    102.0    103.0   \n",
       "4         Dagger          Great Knife    100.0    101.0    102.0    103.0   \n",
       "..           ...                  ...      ...      ...      ...      ...   \n",
       "406  Greatshield    Ant's Skull Plate    100.0    102.0    105.0      NaN   \n",
       "407  Greatshield  Erdtree Greatshield    100.0    102.0    105.0      NaN   \n",
       "408  Greatshield     Jellyfish Shield    100.0    102.0    105.0      NaN   \n",
       "409  Greatshield        Visage Shield    100.0    102.0    105.0      NaN   \n",
       "410  Greatshield      One-Eyed Shield    100.0    102.0    105.0      NaN   \n",
       "\n",
       "     1h R1 5  1h R1 6 1h R2 1 1h R2 2  ... Mounted R1 3 Mounted R2  \\\n",
       "0        NaN      NaN     NaN     NaN  ...          NaN        NaN   \n",
       "1      104.0    110.0     120     120  ...        110.0      135.0   \n",
       "2      104.0    110.0     120     120  ...        110.0      135.0   \n",
       "3      104.0    110.0     120     120  ...        110.0      135.0   \n",
       "4      104.0    110.0     120     120  ...        110.0      135.0   \n",
       "..       ...      ...     ...     ...  ...          ...        ...   \n",
       "406      NaN      NaN     125     125  ...        110.0      125.0   \n",
       "407      NaN      NaN     125     125  ...        110.0      125.0   \n",
       "408      NaN      NaN     125     125  ...        110.0      125.0   \n",
       "409      NaN      NaN     125     125  ...        110.0      125.0   \n",
       "410      NaN      NaN     125     125  ...        110.0      125.0   \n",
       "\n",
       "     Mounted R2 Charging Mounted Charged R2  Mounted L1 1  Mounted L1 2  \\\n",
       "0                    NaN                NaN           NaN           NaN   \n",
       "1                   90.0                170         110.0         110.0   \n",
       "2                   90.0                170         110.0         110.0   \n",
       "3                   90.0                170         110.0         110.0   \n",
       "4                   90.0                170         110.0         110.0   \n",
       "..                   ...                ...           ...           ...   \n",
       "406                100.0                165         110.0         110.0   \n",
       "407                100.0                165         110.0         110.0   \n",
       "408                100.0                165         110.0         110.0   \n",
       "409                100.0                165         110.0         110.0   \n",
       "410                100.0                165         110.0         110.0   \n",
       "\n",
       "    Mounted L1 3 Mounted L2  Mounted L2 Charging Mounted Charged L2  \n",
       "0            NaN        NaN                  NaN                NaN  \n",
       "1          110.0      135.0                 90.0                170  \n",
       "2          110.0      135.0                 90.0                170  \n",
       "3          110.0      135.0                 90.0                170  \n",
       "4          110.0      135.0                 90.0                170  \n",
       "..           ...        ...                  ...                ...  \n",
       "406        110.0      125.0                100.0                165  \n",
       "407        110.0      125.0                100.0                165  \n",
       "408        110.0      125.0                100.0                165  \n",
       "409        110.0      125.0                100.0                165  \n",
       "410        110.0      125.0                100.0                165  \n",
       "\n",
       "[411 rows x 72 columns]"
      ]
     },
     "execution_count": 4,
     "metadata": {},
     "output_type": "execute_result"
    }
   ],
   "source": [
    "MotData"
   ]
  },
  {
   "cell_type": "code",
   "execution_count": 9,
   "id": "561e8b93",
   "metadata": {
    "scrolled": true
   },
   "outputs": [
    {
     "name": "stdout",
     "output_type": "stream",
     "text": [
      "Weapon Class                       Twinblade\n",
      "Weapon                        Godskin Peeler\n",
      "1h R1 1                                100.0\n",
      "1h R1 2                                101.0\n",
      "1h R1 3                                102.0\n",
      "1h R1 4                                103.0\n",
      "1h R1 5                                110.0\n",
      "1h R1 6                                  NaN\n",
      "1h R2 1                                  125\n",
      "1h R2 2                                  125\n",
      "1h Charged R2 1                          160\n",
      "1h Charged R2 2                          160\n",
      "1h Running R1                          105.0\n",
      "1h Running R2                       50 + 115\n",
      "1h Rolling R1                           90.0\n",
      "1h Backstep R1                          90.0\n",
      "1h Jumping R1                            107\n",
      "1h Jumping R2                            127\n",
      "1h Guard Counter                       125.0\n",
      "2h R1 1                             50 + 103\n",
      "2h R1 2                             50 + 104\n",
      "2h R1 3                                  115\n",
      "2h R1 4                        50 + 50 + 106\n",
      "2h R1 5                        50 + 50 + 100\n",
      "2h R1 6                                  NaN\n",
      "2h R2 1                       80 + 135 + 130\n",
      "2h R2 2                       50 + 130 + 130\n",
      "2h Charged R2 1           50 + 50 + 50 + 165\n",
      "2h Charged R2 2           50 + 50 + 50 + 165\n",
      "2h Running R1                       50 + 110\n",
      "2h Running R2             40 + 40 + 40 + 125\n",
      "2h Rolling R1                        50 + 95\n",
      "2h Backstep R1                           105\n",
      "2h Jumping R1                       50 + 112\n",
      "2h Jumping R2                            150\n",
      "2h Guard Counter                    50 + 130\n",
      "Offhand R1 1                           100.0\n",
      "Offhand R1 2                           101.0\n",
      "Offhand R1 3                           102.0\n",
      "Offhand R1 4                           103.0\n",
      "Offhand R1 5                           110.0\n",
      "Offhand R1 6                             NaN\n",
      "Backstab                                 200\n",
      "Riposte                                  300\n",
      "Shieldpoke                               NaN\n",
      "1h Charged R2 1 Feint                    NaN\n",
      "1h Charged R2 2 Feint                    NaN\n",
      "2h Charged R2 1 Feint                    NaN\n",
      "2h Charged R2 2 Feint                    NaN\n",
      "Paired L1 1                          92 + 92\n",
      "Paired L1 2                          94 + 94\n",
      "Paired L1 3                        100 + 100\n",
      "Paired L1 4                              NaN\n",
      "Paired L1 5                              NaN\n",
      "Paired L1 6                              NaN\n",
      "Paired Running L1                   95 + 100\n",
      "Paired Rolling L1                    85 + 85\n",
      "Paired Backstep L1                   85 + 85\n",
      "Paired Jumping L1        50 + 50 + 105 + 105\n",
      "Unnamed: 59                              NaN\n",
      "Mounted R1 1                           110.0\n",
      "Mounted R1 2                           110.0\n",
      "Mounted R1 3                           110.0\n",
      "Mounted R2                             135.0\n",
      "Mounted R2 Charging                     50.0\n",
      "Mounted Charged R2                       170\n",
      "Mounted L1 1                           110.0\n",
      "Mounted L1 2                           110.0\n",
      "Mounted L1 3                           110.0\n",
      "Mounted L2                             135.0\n",
      "Mounted L2 Charging                     50.0\n",
      "Mounted Charged L2                       170\n",
      "Name: 122, dtype: object\n"
     ]
    }
   ],
   "source": [
    "with pd.option_context('display.max_rows', None,\n",
    "                       'display.max_columns', None,\n",
    "                       'display.precision', 3,\n",
    "                       ):\n",
    "    print(MotData.iloc[122])"
   ]
  },
  {
   "cell_type": "code",
   "execution_count": 10,
   "id": "da095919",
   "metadata": {},
   "outputs": [
    {
     "name": "stdout",
     "output_type": "stream",
     "text": [
      "Weapon Class                     Glintstone Staff\n",
      "Weapon                   Academy Glintstone Staff\n",
      "1h R1 1                                     100.0\n",
      "1h R1 2                                     101.0\n",
      "1h R1 3                                     102.0\n",
      "1h R1 4                                       NaN\n",
      "1h R1 5                                       NaN\n",
      "1h R1 6                                       NaN\n",
      "1h R2 1                                       NaN\n",
      "1h R2 2                                       NaN\n",
      "1h Charged R2 1                               NaN\n",
      "1h Charged R2 2                               NaN\n",
      "1h Running R1                                 NaN\n",
      "1h Running R2                                 NaN\n",
      "1h Rolling R1                                 NaN\n",
      "1h Backstep R1                                NaN\n",
      "1h Jumping R1                                 107\n",
      "1h Jumping R2                                 117\n",
      "1h Guard Counter                              NaN\n",
      "2h R1 1                                       105\n",
      "2h R1 2                                       106\n",
      "2h R1 3                                       107\n",
      "2h R1 4                                       NaN\n",
      "2h R1 5                                       NaN\n",
      "2h R1 6                                       NaN\n",
      "2h R2 1                                       NaN\n",
      "2h R2 2                                       NaN\n",
      "2h Charged R2 1                               NaN\n",
      "2h Charged R2 2                               NaN\n",
      "2h Running R1                                 NaN\n",
      "2h Running R2                                 NaN\n",
      "2h Rolling R1                                 NaN\n",
      "2h Backstep R1                                NaN\n",
      "2h Jumping R1                                 112\n",
      "2h Jumping R2                                 127\n",
      "2h Guard Counter                              NaN\n",
      "Offhand R1 1                                100.0\n",
      "Offhand R1 2                                101.0\n",
      "Offhand R1 3                                102.0\n",
      "Offhand R1 4                                  NaN\n",
      "Offhand R1 5                                  NaN\n",
      "Offhand R1 6                                  NaN\n",
      "Backstab                                      NaN\n",
      "Riposte                                       NaN\n",
      "Shieldpoke                                    NaN\n",
      "1h Charged R2 1 Feint                         NaN\n",
      "1h Charged R2 2 Feint                         NaN\n",
      "2h Charged R2 1 Feint                         NaN\n",
      "2h Charged R2 2 Feint                         NaN\n",
      "Paired L1 1                                   NaN\n",
      "Paired L1 2                                   NaN\n",
      "Paired L1 3                                   NaN\n",
      "Paired L1 4                                   NaN\n",
      "Paired L1 5                                   NaN\n",
      "Paired L1 6                                   NaN\n",
      "Paired Running L1                             NaN\n",
      "Paired Rolling L1                             NaN\n",
      "Paired Backstep L1                            NaN\n",
      "Paired Jumping L1                             NaN\n",
      "Unnamed: 59                                   NaN\n",
      "Mounted R1 1                                110.0\n",
      "Mounted R1 2                                110.0\n",
      "Mounted R1 3                                110.0\n",
      "Mounted R2                                    NaN\n",
      "Mounted R2 Charging                           NaN\n",
      "Mounted Charged R2                            NaN\n",
      "Mounted L1 1                                110.0\n",
      "Mounted L1 2                                110.0\n",
      "Mounted L1 3                                110.0\n",
      "Mounted L2                                    NaN\n",
      "Mounted L2 Charging                           NaN\n",
      "Mounted Charged L2                            NaN\n",
      "Name: 306, dtype: object\n"
     ]
    }
   ],
   "source": [
    "with pd.option_context('display.max_rows', None,\n",
    "                       'display.max_columns', None,\n",
    "                       'display.precision', 3,\n",
    "                       ):\n",
    "    print(MotData.iloc[306])"
   ]
  },
  {
   "cell_type": "code",
   "execution_count": 11,
   "id": "5a60e869",
   "metadata": {},
   "outputs": [
    {
     "name": "stdout",
     "output_type": "stream",
     "text": [
      "Weapon Class                                               Curved Sword\n",
      "Weapon                                                    Wing of Astel\n",
      "1h R1 1                                                           100.0\n",
      "1h R1 2                                                           101.0\n",
      "1h R1 3                                                           102.0\n",
      "1h R1 4                                                           103.0\n",
      "1h R1 5                                                           104.0\n",
      "1h R1 6                                                           110.0\n",
      "1h R2 1                                           70 + (150 Projectile)\n",
      "1h R2 2                                           70 + (150 Projectile)\n",
      "1h Charged R2 1           70 + (150 Projectile) + 80 + (150 Projectile)\n",
      "1h Charged R2 2           70 + (150 Projectile) + 80 + (150 Projectile)\n",
      "1h Running R1                                                     105.0\n",
      "1h Running R2                                                       120\n",
      "1h Rolling R1                                                      92.0\n",
      "1h Backstep R1                                                     92.0\n",
      "1h Jumping R1                                                       107\n",
      "1h Jumping R2                                                       127\n",
      "1h Guard Counter                                                  125.0\n",
      "2h R1 1                                                             103\n",
      "2h R1 2                                                             104\n",
      "2h R1 3                                                             105\n",
      "2h R1 4                                                             106\n",
      "2h R1 5                                                             107\n",
      "2h R1 6                                                             115\n",
      "2h R2 1                                           85 + (150 Projectile)\n",
      "2h R2 2                                           85 + (150 Projectile)\n",
      "2h Charged R2 1          80 + (150 Projectile) + 105 + (150 Projectile)\n",
      "2h Charged R2 2          80 + (150 Projectile) + 105 + (150 Projectile)\n",
      "2h Running R1                                                       110\n",
      "2h Running R2                                                       125\n",
      "2h Rolling R1                                                        97\n",
      "2h Backstep R1                                                       97\n",
      "2h Jumping R1                                                       112\n",
      "2h Jumping R2                                                       132\n",
      "2h Guard Counter                                                    130\n",
      "Offhand R1 1                                                      100.0\n",
      "Offhand R1 2                                                      101.0\n",
      "Offhand R1 3                                                      102.0\n",
      "Offhand R1 4                                                      103.0\n",
      "Offhand R1 5                                                      104.0\n",
      "Offhand R1 6                                                      110.0\n",
      "Backstab                                                            200\n",
      "Riposte                                                             300\n",
      "Shieldpoke                                                          NaN\n",
      "1h Charged R2 1 Feint                                                70\n",
      "1h Charged R2 2 Feint                                                70\n",
      "2h Charged R2 1 Feint                                                85\n",
      "2h Charged R2 2 Feint                                                85\n",
      "Paired L1 1                                                     92 + 92\n",
      "Paired L1 2                                                     94 + 94\n",
      "Paired L1 3                                                     96 + 96\n",
      "Paired L1 4                                                   102 + 102\n",
      "Paired L1 5                                                         NaN\n",
      "Paired L1 6                                                         NaN\n",
      "Paired Running L1                                    50 + 50 + 95 + 100\n",
      "Paired Rolling L1                                               87 + 87\n",
      "Paired Backstep L1                                              87 + 87\n",
      "Paired Jumping L1                                   50 + 50 + 105 + 105\n",
      "Unnamed: 59                                                         NaN\n",
      "Mounted R1 1                                                      110.0\n",
      "Mounted R1 2                                                      110.0\n",
      "Mounted R1 3                                                      110.0\n",
      "Mounted R2                                                        135.0\n",
      "Mounted R2 Charging                                                90.0\n",
      "Mounted Charged R2                                             50 + 170\n",
      "Mounted L1 1                                                      110.0\n",
      "Mounted L1 2                                                      110.0\n",
      "Mounted L1 3                                                      110.0\n",
      "Mounted L2                                                        135.0\n",
      "Mounted L2 Charging                                                90.0\n",
      "Mounted Charged L2                                             50 + 170\n",
      "Name: 98, dtype: object\n"
     ]
    }
   ],
   "source": [
    "with pd.option_context('display.max_rows', None,\n",
    "                       'display.max_columns', None,\n",
    "                       'display.precision', 3,\n",
    "                       ):\n",
    "    print(MotData.iloc[98])"
   ]
  },
  {
   "cell_type": "markdown",
   "id": "52b89c7c",
   "metadata": {},
   "source": [
    "## Attack Types\n",
    "### Buttons\n",
    "The Elden Ring community refers to attacks based on what controller button you use to trigger it. They are mapped to the 'triggers' found on the back of the controller, with R1 being the smaller, higher one on the right, and R2 being the larger lower one on the right that will turn as it is pressed. Likewise L1 and L2 for the left side. On mouse and keyboard layouts, R1 is left click, R2 is shift+left click, and likewise L1 and L2 for right click. \n",
    "\n",
    "![Elden Ring Controller Layout](images/Elden_Ring_Controller_Edit.png)\n",
    "\n",
    "### Attack Variants\n",
    "#### R1\n",
    "R1 refers to the light attack of a weapon, and the game implements combos of up to six moves if you continually do light attacks. This shows up in the spreadsheet as `1h R1 1`, `1h R1 2`, ... `1h R1 6`. The game also allows for different values of attacks if the weapon is in your left hand instead of the right, which the spreadsheet calls `Offhand R1 1` etc.\n",
    "\n",
    "#### R2\n",
    "R2 refers to the strong attack of a weapon, which is slower and costs more stamina but deals more damage and poise damage. It can have up to a two move combo in contrast to the R1's possible six moves. This shows up in the spreadsheet as `1h R2 1`, `1h R2 2`. You can also press and hold R2 to do a \"Charged R2\", with again a two move combo. This is in the spreadsheet as `1h Charged R2 1`, `1h Charged R2 2`.\n",
    "\n",
    "#### Two handed\n",
    "At any time you can hold interact and R1 (resp. L1) to make your character weild the right (resp. left) weapon in both hands, and pressing those buttons again returns the character to holding one weapon in each hand. This gives a 1.5x multiplier to the strength statistic, meaning weapons which scale their damage off of strength will do more damage, and weapons which have a numerical strength requirement can have that met more easily by two handing. In addition to all of that, the game has separate motion values and poise values for two handing, so the dataset denotes `1h` and `2h` to be one handed and two handed attacking.\n",
    "\n",
    "#### Running Attacks\n",
    "Running and then attacking has its own values, and this is especially advantageous for thrusting weapons and heavy thrusting weapons, in which the character will use the momentum to get a long reaching attack. This is present as `1h Running R1`, `1h Running R2` etc. \n",
    "\n",
    "#### Jumping Attacks\n",
    "Elden Ring is special in the Souls series because it is a mainline Souls game that has a dedicated jump which aided the move to open world exploration. Starting with 2011's Dark Souls, the series did have plunging attacks which you could do if your character was falling and then you attacked, and then 2019's Sekiro: Shadows Die Twice introduced jumping as part of Sekiro's moveset. That was more of its own game, with you playing as Sekiro who only had his katana, and the game was entirely focused on refining combat for that one moveset. People still debate today whether to call Sekiro a Souls game, but nonetheless with Elden Ring you now can jump and do an attack. Jumping also makes the lower half of your body ignore attacks, so you can jump over certain enemy attacks and especially Area of Effect (AoE) attacks to dodge them and then respond with an attack. R1 will slash in front of you, while R2 will have your character point their weapon down to do an attack whenever you make contact with an enemy. The spreadsheet refers to these as `1h Jumping R1`, `1h Jumping R2`, etc. \n",
    "\n",
    "#### Rolling, Crouching, and Backstepping\n",
    "Elden Ring lets you perform dodge rolls and backsteps to dodge attacks (the backstep is an extremely uncommon move to use), as well as crouch to enter stealth mode and make it harder for enemies to detect you (crouching was another mechanic introduced by Sekiro which then got implemented into Elden Ring). You can attack immediately after backstepping or rolling, or to exit the crouched state. The backstep attack is referred to as `1h Backstep R1`, `2h Backstep R1`. Importantly, the move for attacking out of a roll and out of a crouch are the same move, referred to as `1h Rolling R1` and `2h Rolling R1`. The crouch attack is significant to PvP combat, as it gives normally slow weapons like Collossal Swords a move they can perform quickly (that attack even had to be nerfed in version 1.07, but it was given a slight buff in 1.08 to be viable but not overpowered). \n",
    "\n",
    "#### Shieldpoke\n",
    "This move is performed when you raise a shield in one hand and simultaneously attack with a (Heavy) Thrusting Sword or a (Great) Spear. This is referred to as `Shieldpoke`.\n",
    "\n",
    "#### Backstab\n",
    "Backstabs can be performed by moving your character behind an enemy that can be backstabbed (humanoid enemies are usually the ones that can be), and attempting an attack. This puts you and that enemy in a special animation in which your character makes a critical hit with their weapon, dealing massive damage. This appears as `Backstab`.\n",
    "\n",
    "#### Riposte\n",
    "Ripostes occur either when you parry an enemy's attack with your sheild (if the shield has the parry skill), which staggers the enemy letting you riposte and get a critical hit from the front, similar to the backstab (bosses that can be parried may need two or three parries to stagger). Also, if you deal an enemy enough poise damage (see the spreadsheet's PvE Poise Damage. Each enemy has its own poise you need to surpass), it will collapse and open up an attack to that critical point (some enemies like the Tree Sentinel will simply be stunned without possibility for a response). This appears as `Riposte`.\n",
    "\n",
    "#### Feint\n",
    "This is a more obscure attack. While you are charging a strong attack with a Curved Sword or (Heavy) Thrusting Sword, you can press dodge to do a backstep and slash with your weapon in a Feint. This appears as `1h Charged R2 1 Feint`.\n",
    "\n",
    "#### Powerstancing\n",
    "If you hold a weapon of the same type in each hand, your L1 will change to a simultaneous attack with each weapon. The community refers to this as 'Powerstancing' and it hails from 2014's Dark Souls 2, which was made by a different group of people than all other Souls games, as the A-team were working on Bloodborne, and had an extremely troubled development. As a result that game had many experiemental mechanics, some of which were successes and others which were not. Yui Tanimura who directed Dark Souls 2 codirected Elden Ring with Hidetaka Miyazaki, who is the main director of Souls games. This resulted in a number of successful mechanics like Powerstancing were implemented into Elden Ring. These have up to a six move combo, we well as running, rolling/crouching, backstep, and jumping variants. They are referred to as `Paired L1 1` etc.\n",
    "\n",
    "#### Guard Counter\n",
    "Elden Ring added the \"Guard Counter\" performed by pressing R2 after you block an attack with your shield or two handed weapon. This does additional poise damage, but is sadly too slow to be viable in PvP. It is referred to as `1h Guard Counter`, `2h Guard Counter`.\n",
    "\n",
    "#### Mounted Attacks\n",
    "To match the open world, Elden Ring grants you the spectral speed Torrent. He can be summoned on command, and you have different attacks while mounted. R1 and R2 will attack to the right side of your horse, while L1 and L2 are matching attacks to the left of your horse. There is a three move combo for R1 referred to as `Mounted R1 1` etc. You can also do charge attacks with R2 which holds your weapon beside your horse to hit enemies with your weapon as you race forward, with a final strong attack to finish off. These are referred to as `Mounted R2` etc."
   ]
  },
  {
   "cell_type": "code",
   "execution_count": 5,
   "id": "2a64a318",
   "metadata": {},
   "outputs": [],
   "source": [
    "WeaponNames = MotData[\"Weapon\"].to_numpy()"
   ]
  },
  {
   "cell_type": "code",
   "execution_count": 6,
   "id": "61fcdf3f",
   "metadata": {},
   "outputs": [
    {
     "name": "stdout",
     "output_type": "stream",
     "text": [
      "122\n",
      "306\n",
      "98\n"
     ]
    }
   ],
   "source": [
    "# Get the index of a particular weapon\n",
    "print(np.where(WeaponNames == \"Godskin Peeler\")[0][0])\n",
    "print(np.where(WeaponNames == \"Academy Glintstone Staff\")[0][0])\n",
    "print(np.where(WeaponNames == \"Wing of Astel\")[0][0])"
   ]
  },
  {
   "cell_type": "code",
   "execution_count": 7,
   "id": "9f9df807",
   "metadata": {},
   "outputs": [
    {
     "data": {
      "text/plain": [
       "29592"
      ]
     },
     "execution_count": 7,
     "metadata": {},
     "output_type": "execute_result"
    }
   ],
   "source": [
    "MotData.size"
   ]
  },
  {
   "cell_type": "code",
   "execution_count": 8,
   "id": "596868c9",
   "metadata": {},
   "outputs": [
    {
     "data": {
      "text/plain": [
       "(411, 72)"
      ]
     },
     "execution_count": 8,
     "metadata": {},
     "output_type": "execute_result"
    }
   ],
   "source": [
    "MotData.shape"
   ]
  },
  {
   "cell_type": "markdown",
   "id": "8dee97a7",
   "metadata": {},
   "source": [
    "## Struggles with the Dataset\n",
    "\n",
    "### NaN\n",
    "\n",
    "The dataset has many null entries, which pandas interprets as Not a Number (NaN). These exist in empty rows placed to separate different weapon classes (Daggers, Straight Swords, Thrusting Swords, Sheilds, Glintstone Staves, etc.), so that the google sheet version is more readable. Second, many weapon classes cannot perform certain attacks. Whenever I work with the data, I must include some functionality to exclude those values.\n",
    "\n",
    "### Multi Attacks\n",
    "\n",
    "Some weapons in Elden Ring do multiple separate attacks with a single input, like holding a twinblade in two hands will have your player swing it around multiple times and each will count as a separate hit, any amount of which can hit your foes. Additionally some weapons have an additional projectile or Area of Effect (AoE) attack. The spreadsheet formats this as `50 + 50 + 50 + 165`, and `80 + (150 Projectile) + 105 + (150 Projectile)`. Clearly, these cannot be parsed as integers by the data analysis tools I want to utilize. I decided to simply sum all numbers contained in these strings whenever I encountered them, and I had to make code specifically to do this. The drawback of this is that players may dodge some but not all of these attacks."
   ]
  },
  {
   "cell_type": "code",
   "execution_count": 25,
   "id": "61302fa3",
   "metadata": {},
   "outputs": [],
   "source": [
    "# Convert values of the spreadsheet to floats\n",
    "def stringconv(input):\n",
    "    if(type(input) != str):\n",
    "        return float(input)\n",
    "    if(input[0].isalpha()):\n",
    "        return input\n",
    "    if(input.replace(\".\", \"\", 1).isdigit()):\n",
    "        return float(input)\n",
    "    sum = 0.0\n",
    "    tempstr = \"\"\n",
    "    for x in input:\n",
    "        if x.isdigit() or x == '.':\n",
    "            tempstr+=x\n",
    "            continue\n",
    "        if tempstr == \"\":\n",
    "            continue\n",
    "        sum += float(tempstr)\n",
    "        tempstr = \"\"\n",
    "    if tempstr == \"\":\n",
    "        return sum\n",
    "    sum += float(tempstr)\n",
    "    tempstr = \"\"\n",
    "    return sum"
   ]
  },
  {
   "cell_type": "code",
   "execution_count": 26,
   "id": "8c046452",
   "metadata": {},
   "outputs": [
    {
     "data": {
      "text/plain": [
       "103294.98"
      ]
     },
     "execution_count": 26,
     "metadata": {},
     "output_type": "execute_result"
    }
   ],
   "source": [
    "stringconv(\"103294.98\")"
   ]
  },
  {
   "cell_type": "code",
   "execution_count": 27,
   "id": "16ee6cf1",
   "metadata": {},
   "outputs": [
    {
     "data": {
      "text/plain": [
       "460.0"
      ]
     },
     "execution_count": 27,
     "metadata": {},
     "output_type": "execute_result"
    }
   ],
   "source": [
    "stringconv(\"115 + (57.5 Projectile) + 230 + (57.5 Projectile)\")"
   ]
  },
  {
   "cell_type": "code",
   "execution_count": 28,
   "id": "c2c7daeb",
   "metadata": {},
   "outputs": [
    {
     "data": {
      "text/plain": [
       "'Sword of St. Trina'"
      ]
     },
     "execution_count": 28,
     "metadata": {},
     "output_type": "execute_result"
    }
   ],
   "source": [
    "stringconv(\"Sword of St. Trina\")"
   ]
  },
  {
   "cell_type": "code",
   "execution_count": 29,
   "id": "e93016ae",
   "metadata": {},
   "outputs": [
    {
     "data": {
      "text/plain": [
       "0.0"
      ]
     },
     "execution_count": 29,
     "metadata": {},
     "output_type": "execute_result"
    }
   ],
   "source": [
    "stringconv(0.0)"
   ]
  },
  {
   "cell_type": "code",
   "execution_count": 30,
   "id": "b8ac529a",
   "metadata": {},
   "outputs": [],
   "source": [
    "MotDataM = MotData.applymap(stringconv, na_action='ignore')\n",
    "PseDataM = PseData.applymap(stringconv, na_action='ignore')"
   ]
  },
  {
   "cell_type": "code",
   "execution_count": 32,
   "id": "30c66a60",
   "metadata": {},
   "outputs": [
    {
     "name": "stdout",
     "output_type": "stream",
     "text": [
      "Weapon Class              Curved Sword\n",
      "Weapon                   Wing of Astel\n",
      "1h R1 1                          100.0\n",
      "1h R1 2                          101.0\n",
      "1h R1 3                          102.0\n",
      "1h R1 4                          103.0\n",
      "1h R1 5                          104.0\n",
      "1h R1 6                          110.0\n",
      "1h R2 1                          220.0\n",
      "1h R2 2                          220.0\n",
      "1h Charged R2 1                  450.0\n",
      "1h Charged R2 2                  450.0\n",
      "1h Running R1                    105.0\n",
      "1h Running R2                    120.0\n",
      "1h Rolling R1                     92.0\n",
      "1h Backstep R1                    92.0\n",
      "1h Jumping R1                    107.0\n",
      "1h Jumping R2                    127.0\n",
      "1h Guard Counter                 125.0\n",
      "2h R1 1                          103.0\n",
      "2h R1 2                          104.0\n",
      "2h R1 3                          105.0\n",
      "2h R1 4                          106.0\n",
      "2h R1 5                          107.0\n",
      "2h R1 6                          115.0\n",
      "2h R2 1                          235.0\n",
      "2h R2 2                          235.0\n",
      "2h Charged R2 1                  485.0\n",
      "2h Charged R2 2                  485.0\n",
      "2h Running R1                    110.0\n",
      "2h Running R2                    125.0\n",
      "2h Rolling R1                     97.0\n",
      "2h Backstep R1                    97.0\n",
      "2h Jumping R1                    112.0\n",
      "2h Jumping R2                    132.0\n",
      "2h Guard Counter                 130.0\n",
      "Offhand R1 1                     100.0\n",
      "Offhand R1 2                     101.0\n",
      "Offhand R1 3                     102.0\n",
      "Offhand R1 4                     103.0\n",
      "Offhand R1 5                     104.0\n",
      "Offhand R1 6                     110.0\n",
      "Backstab                         200.0\n",
      "Riposte                          300.0\n",
      "Shieldpoke                         NaN\n",
      "1h Charged R2 1 Feint             70.0\n",
      "1h Charged R2 2 Feint             70.0\n",
      "2h Charged R2 1 Feint             85.0\n",
      "2h Charged R2 2 Feint             85.0\n",
      "Paired L1 1                      184.0\n",
      "Paired L1 2                      188.0\n",
      "Paired L1 3                      192.0\n",
      "Paired L1 4                      204.0\n",
      "Paired L1 5                        NaN\n",
      "Paired L1 6                        NaN\n",
      "Paired Running L1                295.0\n",
      "Paired Rolling L1                174.0\n",
      "Paired Backstep L1               174.0\n",
      "Paired Jumping L1                310.0\n",
      "Unnamed: 59                        NaN\n",
      "Mounted R1 1                     110.0\n",
      "Mounted R1 2                     110.0\n",
      "Mounted R1 3                     110.0\n",
      "Mounted R2                       135.0\n",
      "Mounted R2 Charging               90.0\n",
      "Mounted Charged R2               220.0\n",
      "Mounted L1 1                     110.0\n",
      "Mounted L1 2                     110.0\n",
      "Mounted L1 3                     110.0\n",
      "Mounted L2                       135.0\n",
      "Mounted L2 Charging               90.0\n",
      "Mounted Charged L2               220.0\n",
      "Name: 98, dtype: object\n"
     ]
    }
   ],
   "source": [
    "with pd.option_context('display.max_rows', None,\n",
    "                       'display.max_columns', None,\n",
    "                       'display.precision', 3,\n",
    "                       ):\n",
    "    print(MotDataM.iloc[98])"
   ]
  },
  {
   "cell_type": "markdown",
   "id": "db39c9b9",
   "metadata": {},
   "source": [
    "## Motion Value Analysis\n",
    "\"Motion Values\" are the percentage modifier the damage of a weapon will recieve when it does different attacks. For example, the Dagger's `1h R2 1` has motion value 120, so that means the first one handed strong attack of the dagger will do 120% the base damage.\n",
    "\n",
    "### 1h R1 1\n",
    "We see that in \"Motion Values\" the mean, minimum, and maximum of `1h R1 1` is 100, meaning that this is attack will do exactly the damage a weapon says in the equipment menu (before other increases to its potency), and that this attack is the base upon which all other attacks will be compared to.\n",
    "\n",
    "### Shieldpoke\n",
    "This move is performed when you raise a shield in one hand and simultaneously attack with a thrusting weapon such as a spear. We can see how many of the game's weapons have a particular move by counting non-null entries, and we see that of the game's 337 weapons, only 33 can perform a shieldpoke."
   ]
  },
  {
   "cell_type": "code",
   "execution_count": 137,
   "id": "05d982b9",
   "metadata": {},
   "outputs": [
    {
     "name": "stdout",
     "output_type": "stream",
     "text": [
      "100.0 100.0 100.0\n"
     ]
    }
   ],
   "source": [
    "print(MotDataM[\"1h R1 1\"].mean(),\n",
    "MotDataM[\"1h R1 1\"].min(),\n",
    "MotDataM[\"1h R1 1\"].max())"
   ]
  },
  {
   "cell_type": "code",
   "execution_count": 145,
   "id": "d14b4a51",
   "metadata": {},
   "outputs": [
    {
     "name": "stdout",
     "output_type": "stream",
     "text": [
      "33 Weapons, 8.753315649867375% have a Shieldpoke\n"
     ]
    }
   ],
   "source": [
    "print(sum(MotDataM[\"Shieldpoke\"].notnull()), \" Weapons, \",\n",
    "      100*sum(MotDataM[\"Shieldpoke\"].notnull()) / sum(MotData[\"Weapon\"].notnull()), \"% have a Shieldpoke\", sep=\"\")"
   ]
  },
  {
   "cell_type": "markdown",
   "id": "99ef17e5",
   "metadata": {},
   "source": [
    "## Poise Breakpoints\n",
    "\n",
    "### Poise\n",
    "\n",
    "Poise is a value from 0 to 133 which determines how hard it is for enemy attacks to stagger your player character, breifly preventing you from taking more actions and giving a small window for unimpeded enemy attacks. Each attack deals a certain amount of \"poise damage\", and when your character has been dealt enough poise damage, they will stagger. If the player has not been dealt poise damage for 60 seconds or gets staggered, the stored amount of poise damage will reset to zero.\n",
    "\n",
    "Your character's armor, separated into headgear, chest, gauntlets, and leggings, will contribute 0-100 poise in total. The highest poise armor sets are the \"Bull-Goat Set\" giving 100 poise, the \"Fire Prelate Set\" at 96 poise, the \"Omen Set\" at 91 poise, \"Lionel's Set\" at 86 poise, and the \"Veteran's Set\" at 80 poise. In addition there is the \"Bull-Goat's Talisman\" which reduces incoming poise damage by 25%, which the game displays by saying you have 33% more poise, bringing the maximum to 133.\n",
    "\n",
    "There are temporary effects which increase poise, but as you will see we don't need to account for them in the following analysis. First, Weapon Skill \"Endure\" will give you infinite poise for 3.5 seconds. The Flask of Woundrous Physick can hold two crystal tears, and can only be used once per fight, so \"Leaden Hardtear\" gives infinite poise for 10 seconds. The consumable \"Ironjar Aromatic\" greatly slows the player's speed and makes attacks bounce off of them, at the cost of slowing the player to a crawl. Of little import is (Radiant) Baldachin's Blessing increases poise by 50% (81%) for 15 (70) seconds, these items being far too tedious to obtain repeatedly to see use.\n",
    "\n",
    "### Limitations of higher poise\n",
    "\n",
    "Why wouldn't all players simply have 133 poise? The answer is multifaceted. Higher poise armor will be heavier, which has a complex statistical interplay, players may choose armor for fashion rather than poise, and players have to find sets of armor out in the world. \n",
    "\n",
    "#### Equip Load\n",
    "Players have the statistic \"Equip Load\" which determines how much the sum total of held weapons, armor, and talismans will affect them. Being below 30%, 70%, and 100% or above 100% equip load constitute four tiers of mobility, with lighter tiers granting faster actions and especially faster dodge rolls, while the heaviest tier restricts player to a slow walk and disables dodge rolling. Equip Load scales with the player statistic \"Endurance\" which also governs stamina i.e. how many actions a player can do at once. Increasing Endurance comes at the cost of increasing statistics which make the player deal more damage, Vigor which governs player health, and Mind which governs mana i.e. how many spells and weapon arts a player can cast. Thus there is a tradition of \"tank\" builds wearing the heaviest armor and using slower but high damage weapons, while sorcerers tend to wear lighter armor and invest into other stats so their spells can deal absurd amounts of damage. Most players aim to have just below 70% equip load to be in the medium tier and have a decent amount of armor. \n",
    "\n",
    "#### Fashion\n",
    "Secondarily, fashion is another major factor in what armor players use. The Bull-Goat set and the Omen set are considered ugly by many, turning them off from using it. The Fire Prelate chestpiece and helmet also have a very specific look that not all players would want, but the leggings and gauntlets can blend nicely into most attires. Alternatively, players may just have a fondness for how particular pieces of armor look, or they may be \"cosplaying\" as a particular enemy in the game by using their armor or as a particular character from outside media.\n",
    "\n",
    "#### Non-poise benefits\n",
    "Poise is far from the only statistic of armor. Each piece of armor has varying resistances for different types of damage, and increases the player's resistances to certain status effects (bleed, scarlet rot, madness, etc.) in varying amounts. In addition, many helmets grant other benefits like boosting the aforementioned player statistics, and some sets of armor make thematically associated spells stronger (which mechanically encourages cosplaying as certain enemies).\n",
    "\n",
    "#### Obtaining armor\n",
    "The higher poise armors are the hardest to obtain, two of the five I listed require you to get into the late game area of the Capital, and a further two require you to complete that area. This leaves the Bull-Goat set as the one you have earliest access in theory, but it requires your character to join a murder cult and assassinate the NPC \"Great Horned Targoth\" who wears the armor. Furthermore, this quest can be locked out by either killing the Demigod leader of the cult, upon which it dissolves, or choosing to kill Patches when he appears as a boss early in the game, who asks you to spare him at half health. The Lionel's Set is in a very obvious location, so most players will obtain it, and the Fire Prelate Set is a random drop from a strong enemy that players must go past and can kill as many times as they like until they get the complete set.\n",
    "\n",
    "#### Talismans\n",
    "Players can use up to four talismans at once, and one of these can be the Bull-Goat's Talisman. The game has many talismans useful to all players, and many that benefit specific builds, so the choice of whether or not to use that specific talisman is significant. Among talismans, Bull-Goat's Talisman has a low equip load cost. Players may opt into using it if they are using lighter armor for the aforementioned reasons, or opt out of using it because they prefer other talismans. The item is relatively easy to obtain, and while it can easily be missed, there is no way to make yourself unable to obtain it.\n",
    "\n",
    "\n",
    "### Breakpoints\n",
    "All of this exposition is to say, players want to know what values of poise they can achieve which would allow them to withstand a wide variety of attacks. The community refers to \"Poise Breakpoints\" as levels of poise which will protect players from being staggered by a certain class of attack. \n",
    "\n",
    "#### PvE breakpoints\n",
    "Enemies all deal either 50 or 120 poise damage with every attack. In addition there are hostile NPCs that will deal the same highly variable levels of poise damage damage we will discuss next. Thus for most \"Player versus Environment\" combat, it really only matters whether players at 51 poise or above, at 101 poise or above (to sustain two 50 poise attacks) or at 121-133 poise (only the three strongest sets of armor with Bull-Goat's Talisman grant this much poise). \n",
    "\n",
    "#### PvP breakpoints\n",
    "Player Poise damage varies wildly from attack to attack, and we will attempt to analyze them using the dataset. I have chosen the attacks you will most commonly see in PvP and compiled all the poise values into a single array. I will then measure the percentiles, meaning that if the 10th percentile is 57.5 poise damage, then having 58 poise will allow you to tank at least 10% of the attacks of those in the array.\n",
    "\n",
    "#### Choice of Attacks\n",
    "Each weapon can have up to 69 different attacks, but most of these are uncommon or outright impossible to see in PvP. Thus it is prudent to narrow the field to just the most prevalent attacks.\n"
   ]
  },
  {
   "cell_type": "code",
   "execution_count": 73,
   "id": "b6355ebe",
   "metadata": {},
   "outputs": [],
   "source": [
    "PseArray = np.concatenate((np.array(PseDataM[\"1h R1 1\"].dropna()), \n",
    "                           np.array(PseDataM[\"1h R2 1\"].dropna()), \n",
    "                           np.array(PseDataM[\"2h R1 1\"].dropna()), \n",
    "                           np.array(PseDataM[\"2h R2 1\"].dropna()), \n",
    "                           np.array(PseDataM[\"Paired L1 1\"].dropna()), \n",
    "                           np.array(PseDataM[\"Shieldpoke\"].dropna()), \n",
    "                           np.array(PseDataM[\"1h Running R1\"].dropna()), \n",
    "                           np.array(PseDataM[\"1h Running R2\"].dropna()), \n",
    "                           np.array(PseDataM[\"2h Running R1\"].dropna()), \n",
    "                           np.array(PseDataM[\"2h Running R2\"].dropna()), \n",
    "                           np.array(PseDataM[\"1h Jumping R1\"].dropna()), \n",
    "                           np.array(PseDataM[\"1h Jumping R2\"].dropna()), \n",
    "                           np.array(PseDataM[\"2h Jumping R1\"].dropna()), \n",
    "                           np.array(PseDataM[\"2h Jumping R2\"].dropna()), \n",
    "                           np.array(PseDataM[\"1h Rolling R1\"].dropna()), \n",
    "                           np.array(PseDataM[\"2h Rolling R1\"].dropna())))"
   ]
  },
  {
   "cell_type": "code",
   "execution_count": 90,
   "id": "a349f5be",
   "metadata": {},
   "outputs": [],
   "source": [
    "PseArrayR1 = np.array(PseDataM[\"1h R1 1\"].dropna())"
   ]
  },
  {
   "cell_type": "code",
   "execution_count": 74,
   "id": "6d65b2a3",
   "metadata": {},
   "outputs": [
    {
     "data": {
      "text/plain": [
       "44.0"
      ]
     },
     "execution_count": 74,
     "metadata": {},
     "output_type": "execute_result"
    }
   ],
   "source": [
    "np.percentile(PseArray, 2)"
   ]
  },
  {
   "cell_type": "code",
   "execution_count": 100,
   "id": "6b358c73",
   "metadata": {},
   "outputs": [],
   "source": [
    "res = 4\n",
    "per = np.linspace(0,100, 100*res+1)"
   ]
  },
  {
   "cell_type": "code",
   "execution_count": 101,
   "id": "c2615e0a",
   "metadata": {},
   "outputs": [],
   "source": [
    "# Input array of values and array of percentages\n",
    "# Output array of the values of each given percentile\n",
    "def getpercentile(input,per):\n",
    "    output = []\n",
    "    for i in per:\n",
    "        output.append(np.percentile(input, i))\n",
    "    return output"
   ]
  },
  {
   "cell_type": "code",
   "execution_count": 102,
   "id": "b864ac3d",
   "metadata": {},
   "outputs": [],
   "source": [
    "PsePer = getpercentile(PseArray,per)"
   ]
  },
  {
   "cell_type": "code",
   "execution_count": 103,
   "id": "5f61c95b",
   "metadata": {},
   "outputs": [
    {
     "data": {
      "text/plain": [
       "Text(0, 0.5, 'Perentage of Attacks')"
      ]
     },
     "execution_count": 103,
     "metadata": {},
     "output_type": "execute_result"
    },
    {
     "data": {
      "image/png": "[encoded data removed]",
      "text/plain": [
       "<Figure size 640x480 with 1 Axes>"
      ]
     },
     "metadata": {},
     "output_type": "display_data"
    }
   ],
   "source": [
    "plt.scatter(PsePer,per, s=10, color='green')\n",
    "plt.plot([133,133],[0,100], '--', color ='red')\n",
    "plt.xlabel(\"Poise Damage\")\n",
    "plt.ylabel(\"Perentage of Attacks\")"
   ]
  },
  {
   "cell_type": "code",
   "execution_count": 104,
   "id": "de9334f5",
   "metadata": {},
   "outputs": [],
   "source": [
    "PsePerR1 = getpercentile(PseArrayR1,per)"
   ]
  },
  {
   "cell_type": "code",
   "execution_count": 105,
   "id": "0aeb6b60",
   "metadata": {},
   "outputs": [
    {
     "data": {
      "text/plain": [
       "Text(0, 0.5, 'Perentage of Attacks')"
      ]
     },
     "execution_count": 105,
     "metadata": {},
     "output_type": "execute_result"
    },
    {
     "data": {
      "image/png": "[encoded data removed]",
      "text/plain": [
       "<Figure size 640x480 with 1 Axes>"
      ]
     },
     "metadata": {},
     "output_type": "display_data"
    }
   ],
   "source": [
    "plt.scatter(PsePerR1,per, s=10, color='green')\n",
    "plt.plot([133,133],[0,100], '--', color ='red')\n",
    "plt.xlabel(\"Poise Damage of 1h R1 1\")\n",
    "plt.ylabel(\"Perentage of Attacks\")"
   ]
  },
  {
   "cell_type": "code",
   "execution_count": 106,
   "id": "2b269538",
   "metadata": {},
   "outputs": [
    {
     "data": {
      "text/plain": [
       "Text(0, 0.5, 'Perentage of Attacks')"
      ]
     },
     "execution_count": 106,
     "metadata": {},
     "output_type": "execute_result"
    },
    {
     "data": {
      "image/png": "[encoded data removed]",
      "text/plain": [
       "<Figure size 640x480 with 1 Axes>"
      ]
     },
     "metadata": {},
     "output_type": "display_data"
    }
   ],
   "source": [
    "plt.scatter(PsePer,per, s=10, color='green')\n",
    "plt.xlim(35,133)\n",
    "plt.ylim(0,50)\n",
    "plt.xlabel(\"Poise Damage\")\n",
    "plt.ylabel(\"Perentage of Attacks\")"
   ]
  },
  {
   "cell_type": "code",
   "execution_count": 134,
   "id": "a5ee89fd",
   "metadata": {},
   "outputs": [
    {
     "name": "stdout",
     "output_type": "stream",
     "text": [
      "44.0\n",
      "52.65\n",
      "57.5\n",
      "67.5\n",
      "69.0\n",
      "74.75\n",
      "81.0\n",
      "86.25\n",
      "87.75\n",
      "89.1\n"
     ]
    }
   ],
   "source": [
    "print(np.percentile(PseArray, 2))\n",
    "print(np.percentile(PseArray, 3.5))\n",
    "print(np.percentile(PseArray, 10))\n",
    "print(np.percentile(PseArray, 14))\n",
    "print(np.percentile(PseArray, 15))\n",
    "print(np.percentile(PseArray, 22))\n",
    "print(np.percentile(PseArray, 25))\n",
    "print(np.percentile(PseArray, 27))\n",
    "print(np.percentile(PseArray, 29))\n",
    "print(np.percentile(PseArray, 30))"
   ]
  }
 ],
 "metadata": {
  "kernelspec": {
   "display_name": "Python 3 (ipykernel)",
   "language": "python",
   "name": "python3"
  },
  "language_info": {
   "codemirror_mode": {
    "name": "ipython",
    "version": 3
   },
   "file_extension": ".py",
   "mimetype": "text/x-python",
   "name": "python",
   "nbconvert_exporter": "python",
   "pygments_lexer": "ipython3",
   "version": "3.10.4"
  }
 },
 "nbformat": 4,
 "nbformat_minor": 5
}
